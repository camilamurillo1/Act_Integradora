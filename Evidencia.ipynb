{
  "nbformat": 4,
  "nbformat_minor": 0,
  "metadata": {
    "colab": {
      "provenance": [],
      "include_colab_link": true
    },
    "kernelspec": {
      "name": "python3",
      "display_name": "Python 3"
    },
    "language_info": {
      "name": "python"
    }
  },
  "cells": [
    {
      "cell_type": "markdown",
      "metadata": {
        "id": "view-in-github",
        "colab_type": "text"
      },
      "source": [
        "<a href=\"https://colab.research.google.com/github/camilamurillo1/Act_Integradora/blob/main/Evidencia.ipynb\" target=\"_parent\"><img src=\"https://colab.research.google.com/assets/colab-badge.svg\" alt=\"Open In Colab\"/></a>"
      ]
    },
    {
      "cell_type": "markdown",
      "source": [
        "##Actividad Integradora Modulo 6\n",
        "\n",
        "Camila Murillo - A00828860\n",
        "\n",
        "18 de junio 2023"
      ],
      "metadata": {
        "id": "YYYyWnn0ttmJ"
      }
    },
    {
      "cell_type": "code",
      "source": [
        "#pip install streamlit"
      ],
      "metadata": {
        "id": "qMyPZxRf2ub1"
      },
      "execution_count": null,
      "outputs": []
    },
    {
      "cell_type": "code",
      "execution_count": 4,
      "metadata": {
        "id": "wWrxyLI3Gofi",
        "colab": {
          "base_uri": "https://localhost:8080/"
        },
        "outputId": "8026a725-1e41-411c-ce4d-fc15c881bc8a"
      },
      "outputs": [
        {
          "output_type": "execute_result",
          "data": {
            "text/plain": [
              "DeltaGenerator()"
            ]
          },
          "metadata": {},
          "execution_count": 4
        }
      ],
      "source": [
        "import streamlit as st\n",
        "import pandas as pd\n",
        "import numpy as np\n",
        "#import plotly as px\n",
        "#import plotly.figure_factory as ff\n",
        "#from bokeh.plotting import figure\n",
        "import matplotlib.pyplot as plt\n",
        "\n",
        "st.title('Police Incident Reports from 2018 to 2020 in San Francisco')\n",
        "\n",
        "image = \"sf.jpg\"\n",
        "st.image(image)\n",
        "\n",
        "df = pd.read_csv(\"Policia.csv\")\n",
        "#st.dataframe(df)\n",
        "st.markdown('The data shown below belongs to incident reports in the city of San Francisco, from the year 2018 to 2020, with details from each case such as date, day of the week, police district, neighborhood in which it happened, type of incident in category and subcategory, exact location and resolution.')\n",
        "\n",
        "mapa = pd.DataFrame()\n",
        "mapa['Date'] = df['Incident Date']\n",
        "mapa['Day'] = df['Incident Day of Week']\n",
        "mapa['Year'] = df['Incident Year']\n",
        "mapa['Police District'] = df['Police District']\n",
        "mapa['Neighborhood'] = df['Analysis Neighborhood']\n",
        "mapa['Incident Category'] = df['Incident Category']\n",
        "mapa['Incident Subcategory'] = df['Incident Subcategory']\n",
        "mapa['Resolution'] = df['Resolution']\n",
        "\n",
        "#mapa=pd.DataFrame(df['Latitude'], df['Longitude'])\n",
        "mapa['lat'] = df['Latitude']\n",
        "mapa['lon'] = df['Longitude']\n",
        "\n",
        "mapa=mapa.dropna()\n",
        "#st.map(mapa.astype(int))\n",
        "\n",
        "subset_data2 = mapa\n",
        "police_district_input = st.sidebar.multiselect(\n",
        "'Police District',\n",
        "mapa.groupby('Police District').count().reset_index()['Police District'].tolist())\n",
        "if len(police_district_input) > 0:\n",
        "    subset_data2 = mapa[mapa['Police District'].isin(police_district_input)]\n",
        "\n",
        "subset_data1 = subset_data2\n",
        "neighborhood_input = st.sidebar.multiselect(\n",
        "'Neighborhood',\n",
        "subset_data2.groupby('Neighborhood').count().reset_index()['Neighborhood'].tolist())\n",
        "if len(neighborhood_input) > 0:\n",
        "    subset_data1 = subset_data2[subset_data2['Neighborhood'].isin(neighborhood_input)]\n",
        "\n",
        "subset_data = subset_data1\n",
        "incident_input = st.sidebar.multiselect(\n",
        "'Incident Category',\n",
        "subset_data1.groupby('Incident Category').count().reset_index()['Incident Category'].tolist())\n",
        "if len(incident_input) > 0:\n",
        "    subset_data = subset_data1[subset_data1['Incident Category'].isin(incident_input)]\n",
        "\n",
        "subset_data3 = mapa\n",
        "police_district_input = st.sidebar.multiselect(\n",
        "'Incident Subcategory',\n",
        "mapa.groupby('Incident Subcategory').count().reset_index()['Incident Subcategory'].tolist())\n",
        "if len(police_district_input) > 0:\n",
        "    subset_data3 = mapa[mapa['Incident Subcategory'].isin(police_district_input)]\n",
        "\n",
        "subset_data\n",
        "\n",
        "st.markdown('It is important to mention that any police district can answer to any incident, the neighborhood in which it happened is not related to the police district.')\n",
        "st.markdown('Crime locations in San Francisco')\n",
        "st.map(subset_data)\n",
        "\n",
        "st.markdown('Crimes ocurred per day of the week')\n",
        "st.bar_chart(subset_data['Day'].value_counts())\n",
        "with st.expander(\"See explanation\"):\n",
        "    st.write(\"\"\"The chart above shows the numbers of crimes committed by day in a week\"\"\")\n",
        "\n",
        "st.markdown('Crimes occured per date')\n",
        "st.line_chart(subset_data['Date'].value_counts())\n",
        "with st.expander(\"See explanation\"):\n",
        "    st.write(\"\"\"The chart above shows the dates of the numbers of crimes committed in the last two years\"\"\")\n",
        "\n",
        "st.markdown('Type of crimes committed')\n",
        "st.bar_chart(subset_data['Incident Category'].value_counts())\n",
        "with st.expander(\"See explanation\"):\n",
        "    st.write(\"\"\"The chart above shows the different types of crime committed\"\"\")\n",
        "\n",
        "st.markdown('Crimes occured per year')\n",
        "st.line_chart(subset_data['Year'].value_counts())\n",
        "with st.expander(\"See explanation\"):\n",
        "    st.write(\"\"\"The chart above shows the numbers of crimes committed in the last two years\"\"\")\n",
        "\n",
        "agree = st.button('Click to see Incident Subcategories')\n",
        "if agree:\n",
        "  st.markdown('Subtype of crimes committed')\n",
        "  st.bar_chart(subset_data['Incident Subcategory'].value_counts())\n",
        "\n",
        "agree1 = st.button('Click to see Analysis Neighborhood')\n",
        "if agree1:\n",
        "  st.markdown('Analysis Neighborhood')\n",
        "  st.bar_chart(subset_data['Neighborhood'].value_counts())\n",
        "\n",
        "agree2 = st.button('Click to see Police District')\n",
        "if agree2:\n",
        "  st.markdown('Analysis by Police District')\n",
        "  st.bar_chart(subset_data['Police District'].value_counts())\n",
        "\n",
        "st.markdown('Resolution status')\n",
        "fig1,ax1 = plt.subplots()\n",
        "labels = subset_data['Resolution'].unique()\n",
        "ax1.pie(subset_data['Resolution'].value_counts(),labels=labels, autopct = '%1.1f%%',startangle=20)\n",
        "st.pyplot(fig1)\n",
        "\n"
      ]
    }
  ]
}